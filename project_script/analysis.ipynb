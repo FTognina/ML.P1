{
 "cells": [
  {
   "cell_type": "markdown",
   "id": "87af885e",
   "metadata": {},
   "source": [
    "## Rokas\n"
   ]
  },
  {
   "cell_type": "code",
   "execution_count": 2,
   "id": "1fe3a968",
   "metadata": {},
   "outputs": [
    {
     "data": {
      "text/plain": [
       "'/home/nyx/Documents/EPFL/ML_course/ML.P1/project_script'"
      ]
     },
     "execution_count": 2,
     "metadata": {},
     "output_type": "execute_result"
    }
   ],
   "source": [
    "# lal\n",
    "import sys\n",
    "sys.path.append(\"../implementation\")\n",
    "\n",
    "import os\n",
    "import numpy as np\n",
    "\n",
    "os.getcwd()"
   ]
  },
  {
   "cell_type": "code",
   "execution_count": 3,
   "id": "c4b33bd1",
   "metadata": {},
   "outputs": [],
   "source": [
    "x_train = np.genfromtxt(\n",
    "    '../dataset/x_train.csv',\n",
    "    delimiter=',',\n",
    "    names=True,\n",
    "    dtype=float,             # 👈 force all numeric columns to float\n",
    "    encoding='utf-8',\n",
    "    missing_values=['', 'NA'],\n",
    "    filling_values=np.nan\n",
    ")\n",
    "x_test = np.genfromtxt(\n",
    "    '../dataset/x_test.csv',\n",
    "    delimiter=',',\n",
    "    names=True,\n",
    "    dtype=float,             # 👈 force all numeric columns to float\n",
    "    encoding='utf-8',\n",
    "    missing_values=['', 'NA'],\n",
    "    filling_values=np.nan\n",
    ")"
   ]
  },
  {
   "cell_type": "code",
   "execution_count": 26,
   "id": "8bf8283d",
   "metadata": {},
   "outputs": [
    {
     "data": {
      "text/plain": [
       "array([53., 33., 20., ..., 39., 33., 32.], shape=(328135,))"
      ]
     },
     "execution_count": 26,
     "metadata": {},
     "output_type": "execute_result"
    }
   ],
   "source": [
    "x_train['_STATE']"
   ]
  },
  {
   "cell_type": "code",
   "execution_count": null,
   "id": "d662b1c9",
   "metadata": {},
   "outputs": [],
   "source": []
  },
  {
   "cell_type": "code",
   "execution_count": 6,
   "id": "5b5133d9",
   "metadata": {},
   "outputs": [
    {
     "data": {
      "text/plain": [
       "('Id',\n",
       " '_STATE',\n",
       " 'FMONTH',\n",
       " 'IDATE',\n",
       " 'IMONTH',\n",
       " 'IDAY',\n",
       " 'IYEAR',\n",
       " 'DISPCODE',\n",
       " 'SEQNO',\n",
       " '_PSU')"
      ]
     },
     "execution_count": 6,
     "metadata": {},
     "output_type": "execute_result"
    }
   ],
   "source": [
    "x_train.dtype.names[:10]"
   ]
  },
  {
   "cell_type": "code",
   "execution_count": null,
   "id": "c85214de",
   "metadata": {},
   "outputs": [],
   "source": [
    "cols_to_drop = [\n",
    "    FMONTH, #file month\n",
    "    IDATE, # interwiew date\n",
    "    IDAY, # interview day\n",
    "    IYEAR, # interview year\n",
    "    SEQNO, # anual sequence number\n",
    "    _PSU, # primary sampling unit(equal to anual seq no)\n",
    "    CTELNUM, # telephone number?\n",
    "    PVTRESD1, # private residence? 186k NaN\n",
    "    COLGHOUSE, # college housing? 441k NaN\n",
    "    STARTERS, #ask about state. 186k NaN\n",
    "    CELLFON3, # is this cellular phone? 186k NaN\n",
    "    LADULT, # (land line)>18 years old? 441k NaN\n",
    "    # NUMADULT, # number of adults in household? 186k NaN\n",
    "    NUMMEN, # number of men in household? 187k NaN\n",
    "    NUMWOMEN, # number of women in household? 187k NaN\n",
    "    CTELNUM1, # is this (this) telephone number? 254k NaN\n",
    "    CELLFON2, # is this cellular phone? 254k NaN\n",
    "    CADULT, # (cell phone) >18 years old? 254k NaN\n",
    "    PVTRESD2, # private residence? 254k NaN cell\n",
    "    CCLGHOUS, # do you live in college housing? 440k NaN cell\n",
    "    CSTATE, #are you resident of (state)? 254k NaN cell\n",
    "    LANDLINE, # do you also have a landline? 254k NaN cell\n",
    "    HHADULT, # number of adults in household? 259k NaN cell \n",
    "    NUMHHOL2, #Do you have more than one telephone number in your household? Do not include cell phones or numbers that are only used by a computer or fax machine. 186k nan\n",
    "    NUMPHON2, #How many of these telephone numbers are residential numbers? 428,206k nan\n",
    "    CPDEMO1, #Do you have a cell phone for personal use? Please include cell phones used for both business and personal use 186k nan\n",
    "\n",
    "    ]\n",
    "use = [\n",
    "        \n",
    "    DISPCODE, # 1100 - complete, 1200 - partial\n",
    "    GENHLTH, #Would you say that in general your health is: 2nan\n",
    "    PHYSHLTH, #Now thinking about your physical health, which includes physical illness and injury, for how many days during the past 30 days was your physical health not good? 1nan\n",
    "    MENTHLTH, #Now thinking about your mental health, which includes stress, depression, and problems with emotions, for how many days during the past 30 days was your mental health not good? 0nan\n",
    "    # alot nan POORHLTH # During the past 30 days, for about how many days did poor physical or mental health keep you from doing your usual activities, such as self-care, work, or recreation? 214k nan\n",
    "\n",
    "    HLTHPLN1, #Do you have any kind of health care coverage, including health insurance, prepaid plans such as HMOs, or government plans such as Medicare, or Indian Health Service? 0nan?\n",
    "    PERSDOC2, # Do you have one person you think of as your personal doctor or health care provider? (If \"No\" ask \"Is there more than one or is there no person who you think of as your personal doctor or health care provider?\". 0nan?\n",
    "    MEDCOST, # Was there a time in the past 12 months when you needed to see a doctor but could not because of cost? 1nan\n",
    "    CHECKUP1, # About how long has it been since you last visited a doctor for a routine checkup? [A routine checkup is a general physical exam, not an exam for a specific injury, illness, or condition. 1nan\n",
    "    BPHIGH4, # Have you EVER been told by a doctor, nurse or other health professional that you have high blood pressure? (If \"Yes\" and respondent is female, ask \"Was this only when you were pregnant?\".) 1nan\n",
    "    # BPMEDS, #Are you currently taking medicine for your high blood pressure? 263k nan\n",
    "    BLOODCHO, #Blood cholesterol is a fatty substance found in the blood. Have you EVER had your blood cholesterol checked? 0nan?\n",
    "    CHOLCHK, #About how long has it been since you last had your blood cholesterol checked? 59k nan\n",
    "    TOLDHI2, #Have you EVER been told by a doctor, nurse or other health professional that your blood cholesterol is high? 59k nan\n",
    "\n",
    "\n",
    "\n",
    "    '''\n",
    "    Has a doctor, nurse, or other health professional ever told you that you had any of the following? For each, tell me\n",
    "    “Yes”, “No”, or you’re “Not sure”:\n",
    "    '''\n",
    "\n",
    "    CVDINFR4, #(Ever told) you had a heart attack, also called a myocardial infarction?\n",
    "    CVDCRHD4, #(Ever told) you had angina or coronary heart disease? 1nan\n",
    "    CVDSTRK3, #(Ever told) you had a stroke? 0nan?\n",
    "    ASTHMA3, #(Ever told) you had asthma?\n",
    "    ASTHNOW, #Do you still have asthma? 382k nan\n",
    "    CHCSCNCR, #(Ever told) you had skin cancer? 1nan\n",
    "    CHCOCNCR, #(Ever told) you had any other types of cancer? 0nan\n",
    "    CHCCOPD1, #(Ever told) you have Chronic Obstructive Pulmonary Disease or COPD, emphysema or chronic bronchitis?\n",
    "    HAVARTH3, #Ever told) you have some form of arthritis, rheumatoid arthritis, gout, lupus, or fibromyalgia? (Arthritis diagnoses include: rheumatism, polymyalgia rheumatica; osteoarthritis (not osteporosis); tendonitis, bursitis, bunion, tennis elbow; carpal tunnel syndrome, tarsal tunnel syndrome; joint infection, etc.) 1nan\n",
    "    ADDEPEV2, #Ever told) you that you have a depressive disorder, including depression, major depression, dysthymia, or minor depression?\n",
    "    CHCKIDNY, #Ever told) you have kidney disease? Do NOT include kidney stones, bladder infection or incontinence.(Incontinence is not being able to control urine flow.)\n",
    "    DIABETE3, #(Ever told) you have diabetes (If \"Yes\" and respondent is female, ask \"Was this only when you were pregnant?\". If Respondent says pre-diabetes or borderline diabetes, use response code 4.) 7nan\n",
    "    DIABAGE2, #How old were you when you were told you have diabetes? 384k nan\n",
    "    SEX, #Indicate sex of respondent. \n",
    "    MARITAL, #Are you: (marital status)\n",
    "    EDUCA, #What is the highest grade or year of school you completed?\n",
    "    RENTHOM1, #Do you own or rent your home? (Home is defined as the place where you live most of the time/the majority of the year.\n",
    "    VETERAN3, #Have you ever served on active duty in the United States Armed Forces, either in the regular military or in a National Guard or military reserve unit? (Active duty does not include training for the Reserves or National Guard, but DOES include activation, for example, for the Persian Gulf War.) 6 nan\n",
    "    EMPLOY1, #Are you currently: (employment status)\n",
    "    CHILDREN, #How many children less than 18 years of age live in your household? 5nan\n",
    "\n",
    "\n",
    "# 25/137 page\n"
   ]
  },
  {
   "cell_type": "markdown",
   "id": "724857e4",
   "metadata": {},
   "source": [
    "refused count as nan??"
   ]
  },
  {
   "cell_type": "code",
   "execution_count": 2,
   "id": "da81a315",
   "metadata": {},
   "outputs": [],
   "source": [
    "from implementations_rokas import *"
   ]
  },
  {
   "cell_type": "code",
   "execution_count": 3,
   "id": "635f0b58",
   "metadata": {},
   "outputs": [],
   "source": [
    "from implementations_rokas import least_squares"
   ]
  },
  {
   "cell_type": "code",
   "execution_count": 5,
   "id": "23fddcc8",
   "metadata": {},
   "outputs": [
    {
     "ename": "NameError",
     "evalue": "name 'y' is not defined",
     "output_type": "error",
     "traceback": [
      "\u001b[31m---------------------------------------------------------------------------\u001b[39m",
      "\u001b[31mNameError\u001b[39m                                 Traceback (most recent call last)",
      "\u001b[36mCell\u001b[39m\u001b[36m \u001b[39m\u001b[32mIn[5]\u001b[39m\u001b[32m, line 1\u001b[39m\n\u001b[32m----> \u001b[39m\u001b[32m1\u001b[39m mean_squared_error_gd(\u001b[43my\u001b[49m, tx, initial_w, max_iters, gamma)\n",
      "\u001b[31mNameError\u001b[39m: name 'y' is not defined"
     ]
    }
   ],
   "source": [
    "mean_squared_error_gd(y, tx, initial_w, max_iters, gamma)"
   ]
  }
 ],
 "metadata": {
  "kernelspec": {
   "display_name": "default",
   "language": "python",
   "name": "python3"
  },
  "language_info": {
   "codemirror_mode": {
    "name": "ipython",
    "version": 3
   },
   "file_extension": ".py",
   "mimetype": "text/x-python",
   "name": "python",
   "nbconvert_exporter": "python",
   "pygments_lexer": "ipython3",
   "version": "3.13.7"
  }
 },
 "nbformat": 4,
 "nbformat_minor": 5
}
