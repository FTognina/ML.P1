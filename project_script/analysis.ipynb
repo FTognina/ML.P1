{
 "cells": [
  {
   "cell_type": "markdown",
   "id": "87af885e",
   "metadata": {},
   "source": [
    "## Rokas\n"
   ]
  },
  {
   "cell_type": "code",
   "execution_count": null,
   "id": "1fe3a968",
   "metadata": {},
   "outputs": [
    {
     "data": {
      "text/plain": [
       "'/home/nyx/Documents/EPFL/ML_course/ML.P1/project_script'"
      ]
     },
     "execution_count": 1,
     "metadata": {},
     "output_type": "execute_result"
    }
   ],
   "source": [
    "# lal\n",
    "import sys\n",
    "sys.path.append(\"../implementation\")\n",
    "\n",
    "import os\n",
    "from helpers import load_data\n",
    "import numpy as np\n",
    "\n",
    "os.getcwd()"
   ]
  },
  {
   "cell_type": "code",
   "execution_count": null,
   "id": "c4b33bd1",
   "metadata": {},
   "outputs": [],
   "source": [
    "x_train = np.genfromtxt(\n",
    "    '../dataset/x_train.csv',\n",
    "    delimiter=',',\n",
    "    names=True,\n",
    "    dtype=float,             # 👈 force all numeric columns to float\n",
    "    encoding='utf-8',\n",
    "    missing_values=['', 'NA'],\n",
    "    filling_values=np.nan\n",
    ")\n",
    "x_test = np.genfromtxt(\n",
    "    '../dataset/x_test.csv',\n",
    "    delimiter=',',\n",
    "    names=True,\n",
    "    dtype=float,             # 👈 force all numeric columns to float\n",
    "    encoding='utf-8',\n",
    "    missing_values=['', 'NA'],\n",
    "    filling_values=np.nan\n",
    ")"
   ]
  },
  {
   "cell_type": "code",
   "execution_count": 25,
   "id": "5b5133d9",
   "metadata": {},
   "outputs": [
    {
     "data": {
      "text/plain": [
       "('Id',\n",
       " '_STATE',\n",
       " 'FMONTH',\n",
       " 'IDATE',\n",
       " 'IMONTH',\n",
       " 'IDAY',\n",
       " 'IYEAR',\n",
       " 'DISPCODE',\n",
       " 'SEQNO',\n",
       " '_PSU')"
      ]
     },
     "execution_count": 25,
     "metadata": {},
     "output_type": "execute_result"
    }
   ],
   "source": [
    "data.dtype.names[:10]"
   ]
  },
  {
   "cell_type": "code",
   "execution_count": 2,
   "id": "da81a315",
   "metadata": {},
   "outputs": [],
   "source": [
    "from implementations_rokas import *"
   ]
  },
  {
   "cell_type": "code",
   "execution_count": 3,
   "id": "635f0b58",
   "metadata": {},
   "outputs": [],
   "source": [
    "from implementations_rokas import least_squares"
   ]
  },
  {
   "cell_type": "code",
   "execution_count": 5,
   "id": "23fddcc8",
   "metadata": {},
   "outputs": [
    {
     "ename": "NameError",
     "evalue": "name 'y' is not defined",
     "output_type": "error",
     "traceback": [
      "\u001b[31m---------------------------------------------------------------------------\u001b[39m",
      "\u001b[31mNameError\u001b[39m                                 Traceback (most recent call last)",
      "\u001b[36mCell\u001b[39m\u001b[36m \u001b[39m\u001b[32mIn[5]\u001b[39m\u001b[32m, line 1\u001b[39m\n\u001b[32m----> \u001b[39m\u001b[32m1\u001b[39m mean_squared_error_gd(\u001b[43my\u001b[49m, tx, initial_w, max_iters, gamma)\n",
      "\u001b[31mNameError\u001b[39m: name 'y' is not defined"
     ]
    }
   ],
   "source": [
    "mean_squared_error_gd(y, tx, initial_w, max_iters, gamma)"
   ]
  }
 ],
 "metadata": {
  "kernelspec": {
   "display_name": "default",
   "language": "python",
   "name": "python3"
  },
  "language_info": {
   "codemirror_mode": {
    "name": "ipython",
    "version": 3
   },
   "file_extension": ".py",
   "mimetype": "text/x-python",
   "name": "python",
   "nbconvert_exporter": "python",
   "pygments_lexer": "ipython3",
   "version": "3.13.7"
  }
 },
 "nbformat": 4,
 "nbformat_minor": 5
}
